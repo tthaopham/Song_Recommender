{
 "cells": [
  {
   "attachments": {},
   "cell_type": "markdown",
   "metadata": {},
   "source": [
    "## SONG SELECTOR "
   ]
  },
  {
   "cell_type": "code",
   "execution_count": 607,
   "metadata": {},
   "outputs": [],
   "source": [
    "import numpy as np\n",
    "import pandas as pd\n",
    "import pickle\n",
    "from sklearn import datasets # sklearn comes with some toy datasets to practise\n",
    "from sklearn.preprocessing import StandardScaler\n",
    "from sklearn.cluster import KMeans\n",
    "from matplotlib import pyplot\n",
    "from sklearn.metrics import silhouette_score\n",
    "import yellowbrick"
   ]
  },
  {
   "cell_type": "code",
   "execution_count": 608,
   "metadata": {},
   "outputs": [],
   "source": [
    "# import sys\n",
    "# sys.path.append('../../')\n",
    "import config\n",
    "import spotipy\n",
    "import json\n",
    "from spotipy.oauth2 import SpotifyClientCredentials\n",
    "import pprint"
   ]
  },
  {
   "cell_type": "code",
   "execution_count": 609,
   "metadata": {},
   "outputs": [],
   "source": [
    "sp = spotipy.Spotify(auth_manager=SpotifyClientCredentials(client_id= config.client_id,\n",
    "                                                           client_secret= config.client_secret))"
   ]
  },
  {
   "attachments": {},
   "cell_type": "markdown",
   "metadata": {},
   "source": [
    "1- load the pandas data frame songs of the audio features (minimum 1000 songs as diverse as possible))\n",
    "\n",
    "\n",
    "\n",
    "\n",
    "\n",
    "\n",
    "\n"
   ]
  },
  {
   "cell_type": "code",
   "execution_count": 610,
   "metadata": {},
   "outputs": [],
   "source": [
    "original_data = pd.read_csv('./df_concat_20905.csv')"
   ]
  },
  {
   "cell_type": "code",
   "execution_count": 611,
   "metadata": {},
   "outputs": [],
   "source": [
    "original_data.drop_duplicates(inplace=True, ignore_index=False)"
   ]
  },
  {
   "cell_type": "code",
   "execution_count": 612,
   "metadata": {},
   "outputs": [
    {
     "data": {
      "text/html": [
       "<div>\n",
       "<style scoped>\n",
       "    .dataframe tbody tr th:only-of-type {\n",
       "        vertical-align: middle;\n",
       "    }\n",
       "\n",
       "    .dataframe tbody tr th {\n",
       "        vertical-align: top;\n",
       "    }\n",
       "\n",
       "    .dataframe thead th {\n",
       "        text-align: right;\n",
       "    }\n",
       "</style>\n",
       "<table border=\"1\" class=\"dataframe\">\n",
       "  <thead>\n",
       "    <tr style=\"text-align: right;\">\n",
       "      <th></th>\n",
       "      <th>Unnamed: 0</th>\n",
       "      <th>Unnamed: 0.1</th>\n",
       "      <th>danceability</th>\n",
       "      <th>energy</th>\n",
       "      <th>loudness</th>\n",
       "      <th>speechiness</th>\n",
       "      <th>acousticness</th>\n",
       "      <th>instrumentalness</th>\n",
       "      <th>liveness</th>\n",
       "      <th>valence</th>\n",
       "      <th>tempo</th>\n",
       "      <th>id</th>\n",
       "      <th>duration_ms</th>\n",
       "    </tr>\n",
       "  </thead>\n",
       "  <tbody>\n",
       "    <tr>\n",
       "      <th>0</th>\n",
       "      <td>0</td>\n",
       "      <td>0</td>\n",
       "      <td>0.566</td>\n",
       "      <td>0.664</td>\n",
       "      <td>-5.303</td>\n",
       "      <td>0.0464</td>\n",
       "      <td>0.6340</td>\n",
       "      <td>0.000000</td>\n",
       "      <td>0.116</td>\n",
       "      <td>0.437</td>\n",
       "      <td>128.945</td>\n",
       "      <td>3dYD57lRAUcMHufyqn9GcI</td>\n",
       "      <td>241688</td>\n",
       "    </tr>\n",
       "    <tr>\n",
       "      <th>1</th>\n",
       "      <td>1</td>\n",
       "      <td>1</td>\n",
       "      <td>0.768</td>\n",
       "      <td>0.820</td>\n",
       "      <td>-4.630</td>\n",
       "      <td>0.0474</td>\n",
       "      <td>0.1790</td>\n",
       "      <td>0.000000</td>\n",
       "      <td>0.689</td>\n",
       "      <td>0.625</td>\n",
       "      <td>129.965</td>\n",
       "      <td>2V4bv1fNWfTcyRJKmej6Sj</td>\n",
       "      <td>213293</td>\n",
       "    </tr>\n",
       "    <tr>\n",
       "      <th>2</th>\n",
       "      <td>2</td>\n",
       "      <td>2</td>\n",
       "      <td>0.558</td>\n",
       "      <td>0.559</td>\n",
       "      <td>-9.222</td>\n",
       "      <td>0.0959</td>\n",
       "      <td>0.3710</td>\n",
       "      <td>0.000007</td>\n",
       "      <td>0.109</td>\n",
       "      <td>0.620</td>\n",
       "      <td>78.558</td>\n",
       "      <td>7KA4W4McWYRpgf0fWsJZWB</td>\n",
       "      <td>180387</td>\n",
       "    </tr>\n",
       "    <tr>\n",
       "      <th>3</th>\n",
       "      <td>3</td>\n",
       "      <td>3</td>\n",
       "      <td>0.679</td>\n",
       "      <td>0.715</td>\n",
       "      <td>-6.383</td>\n",
       "      <td>0.0407</td>\n",
       "      <td>0.0755</td>\n",
       "      <td>0.000000</td>\n",
       "      <td>0.271</td>\n",
       "      <td>0.571</td>\n",
       "      <td>127.435</td>\n",
       "      <td>4Ub8UsjWuewQrPhuepfVpd</td>\n",
       "      <td>214148</td>\n",
       "    </tr>\n",
       "    <tr>\n",
       "      <th>4</th>\n",
       "      <td>4</td>\n",
       "      <td>4</td>\n",
       "      <td>0.778</td>\n",
       "      <td>0.824</td>\n",
       "      <td>-5.892</td>\n",
       "      <td>0.0707</td>\n",
       "      <td>0.2840</td>\n",
       "      <td>0.000000</td>\n",
       "      <td>0.405</td>\n",
       "      <td>0.758</td>\n",
       "      <td>100.024</td>\n",
       "      <td>3ZFTkvIE7kyPt6Nu3PEa7V</td>\n",
       "      <td>218093</td>\n",
       "    </tr>\n",
       "  </tbody>\n",
       "</table>\n",
       "</div>"
      ],
      "text/plain": [
       "   Unnamed: 0  Unnamed: 0.1  danceability  energy  loudness  speechiness  \\\n",
       "0           0             0         0.566   0.664    -5.303       0.0464   \n",
       "1           1             1         0.768   0.820    -4.630       0.0474   \n",
       "2           2             2         0.558   0.559    -9.222       0.0959   \n",
       "3           3             3         0.679   0.715    -6.383       0.0407   \n",
       "4           4             4         0.778   0.824    -5.892       0.0707   \n",
       "\n",
       "   acousticness  instrumentalness  liveness  valence    tempo  \\\n",
       "0        0.6340          0.000000     0.116    0.437  128.945   \n",
       "1        0.1790          0.000000     0.689    0.625  129.965   \n",
       "2        0.3710          0.000007     0.109    0.620   78.558   \n",
       "3        0.0755          0.000000     0.271    0.571  127.435   \n",
       "4        0.2840          0.000000     0.405    0.758  100.024   \n",
       "\n",
       "                       id  duration_ms  \n",
       "0  3dYD57lRAUcMHufyqn9GcI       241688  \n",
       "1  2V4bv1fNWfTcyRJKmej6Sj       213293  \n",
       "2  7KA4W4McWYRpgf0fWsJZWB       180387  \n",
       "3  4Ub8UsjWuewQrPhuepfVpd       214148  \n",
       "4  3ZFTkvIE7kyPt6Nu3PEa7V       218093  "
      ]
     },
     "execution_count": 612,
     "metadata": {},
     "output_type": "execute_result"
    }
   ],
   "source": [
    "original_data.head()"
   ]
  },
  {
   "cell_type": "code",
   "execution_count": 613,
   "metadata": {},
   "outputs": [
    {
     "data": {
      "text/html": [
       "<div>\n",
       "<style scoped>\n",
       "    .dataframe tbody tr th:only-of-type {\n",
       "        vertical-align: middle;\n",
       "    }\n",
       "\n",
       "    .dataframe tbody tr th {\n",
       "        vertical-align: top;\n",
       "    }\n",
       "\n",
       "    .dataframe thead th {\n",
       "        text-align: right;\n",
       "    }\n",
       "</style>\n",
       "<table border=\"1\" class=\"dataframe\">\n",
       "  <thead>\n",
       "    <tr style=\"text-align: right;\">\n",
       "      <th></th>\n",
       "      <th>danceability</th>\n",
       "      <th>energy</th>\n",
       "      <th>loudness</th>\n",
       "      <th>speechiness</th>\n",
       "      <th>acousticness</th>\n",
       "      <th>instrumentalness</th>\n",
       "      <th>liveness</th>\n",
       "      <th>valence</th>\n",
       "      <th>tempo</th>\n",
       "    </tr>\n",
       "  </thead>\n",
       "  <tbody>\n",
       "    <tr>\n",
       "      <th>0</th>\n",
       "      <td>0.566</td>\n",
       "      <td>0.664</td>\n",
       "      <td>-5.303</td>\n",
       "      <td>0.0464</td>\n",
       "      <td>0.6340</td>\n",
       "      <td>0.000000</td>\n",
       "      <td>0.116</td>\n",
       "      <td>0.437</td>\n",
       "      <td>128.945</td>\n",
       "    </tr>\n",
       "    <tr>\n",
       "      <th>1</th>\n",
       "      <td>0.768</td>\n",
       "      <td>0.820</td>\n",
       "      <td>-4.630</td>\n",
       "      <td>0.0474</td>\n",
       "      <td>0.1790</td>\n",
       "      <td>0.000000</td>\n",
       "      <td>0.689</td>\n",
       "      <td>0.625</td>\n",
       "      <td>129.965</td>\n",
       "    </tr>\n",
       "    <tr>\n",
       "      <th>2</th>\n",
       "      <td>0.558</td>\n",
       "      <td>0.559</td>\n",
       "      <td>-9.222</td>\n",
       "      <td>0.0959</td>\n",
       "      <td>0.3710</td>\n",
       "      <td>0.000007</td>\n",
       "      <td>0.109</td>\n",
       "      <td>0.620</td>\n",
       "      <td>78.558</td>\n",
       "    </tr>\n",
       "    <tr>\n",
       "      <th>3</th>\n",
       "      <td>0.679</td>\n",
       "      <td>0.715</td>\n",
       "      <td>-6.383</td>\n",
       "      <td>0.0407</td>\n",
       "      <td>0.0755</td>\n",
       "      <td>0.000000</td>\n",
       "      <td>0.271</td>\n",
       "      <td>0.571</td>\n",
       "      <td>127.435</td>\n",
       "    </tr>\n",
       "    <tr>\n",
       "      <th>4</th>\n",
       "      <td>0.778</td>\n",
       "      <td>0.824</td>\n",
       "      <td>-5.892</td>\n",
       "      <td>0.0707</td>\n",
       "      <td>0.2840</td>\n",
       "      <td>0.000000</td>\n",
       "      <td>0.405</td>\n",
       "      <td>0.758</td>\n",
       "      <td>100.024</td>\n",
       "    </tr>\n",
       "  </tbody>\n",
       "</table>\n",
       "</div>"
      ],
      "text/plain": [
       "   danceability  energy  loudness  speechiness  acousticness  \\\n",
       "0         0.566   0.664    -5.303       0.0464        0.6340   \n",
       "1         0.768   0.820    -4.630       0.0474        0.1790   \n",
       "2         0.558   0.559    -9.222       0.0959        0.3710   \n",
       "3         0.679   0.715    -6.383       0.0407        0.0755   \n",
       "4         0.778   0.824    -5.892       0.0707        0.2840   \n",
       "\n",
       "   instrumentalness  liveness  valence    tempo  \n",
       "0          0.000000     0.116    0.437  128.945  \n",
       "1          0.000000     0.689    0.625  129.965  \n",
       "2          0.000007     0.109    0.620   78.558  \n",
       "3          0.000000     0.271    0.571  127.435  \n",
       "4          0.000000     0.405    0.758  100.024  "
      ]
     },
     "execution_count": 613,
     "metadata": {},
     "output_type": "execute_result"
    }
   ],
   "source": [
    "data_num = original_data.drop(['Unnamed: 0','Unnamed: 0.1','id', 'duration_ms'], axis=1)\n",
    "data_num.head()"
   ]
  },
  {
   "cell_type": "code",
   "execution_count": 614,
   "metadata": {},
   "outputs": [],
   "source": [
    "# data_num['loudness'] = (data_num['loudness'] - data_num['loudness'].min())/ (data_num['loudness'].max() - data_num['loudness'].min())"
   ]
  },
  {
   "cell_type": "code",
   "execution_count": 615,
   "metadata": {},
   "outputs": [],
   "source": [
    "# data_num['tempo'] = (data_num['tempo'] - data_num['tempo'].min())/ (data_num['tempo'].max() - data_num['tempo'].min())"
   ]
  },
  {
   "cell_type": "code",
   "execution_count": 616,
   "metadata": {},
   "outputs": [],
   "source": [
    "# data_num['duration_ms'] = (data_num['duration_ms'] - data_num['duration_ms'].min())/ (data_num['duration_ms'].max() - data_num['duration_ms'].min())"
   ]
  },
  {
   "cell_type": "code",
   "execution_count": 617,
   "metadata": {},
   "outputs": [
    {
     "data": {
      "text/html": [
       "<div>\n",
       "<style scoped>\n",
       "    .dataframe tbody tr th:only-of-type {\n",
       "        vertical-align: middle;\n",
       "    }\n",
       "\n",
       "    .dataframe tbody tr th {\n",
       "        vertical-align: top;\n",
       "    }\n",
       "\n",
       "    .dataframe thead th {\n",
       "        text-align: right;\n",
       "    }\n",
       "</style>\n",
       "<table border=\"1\" class=\"dataframe\">\n",
       "  <thead>\n",
       "    <tr style=\"text-align: right;\">\n",
       "      <th></th>\n",
       "      <th>danceability</th>\n",
       "      <th>energy</th>\n",
       "      <th>loudness</th>\n",
       "      <th>speechiness</th>\n",
       "      <th>acousticness</th>\n",
       "      <th>instrumentalness</th>\n",
       "      <th>liveness</th>\n",
       "      <th>valence</th>\n",
       "      <th>tempo</th>\n",
       "    </tr>\n",
       "  </thead>\n",
       "  <tbody>\n",
       "    <tr>\n",
       "      <th>0</th>\n",
       "      <td>0.566</td>\n",
       "      <td>0.664</td>\n",
       "      <td>-5.303</td>\n",
       "      <td>0.0464</td>\n",
       "      <td>0.634000</td>\n",
       "      <td>0.000000</td>\n",
       "      <td>0.1160</td>\n",
       "      <td>0.437</td>\n",
       "      <td>128.945</td>\n",
       "    </tr>\n",
       "    <tr>\n",
       "      <th>1</th>\n",
       "      <td>0.768</td>\n",
       "      <td>0.820</td>\n",
       "      <td>-4.630</td>\n",
       "      <td>0.0474</td>\n",
       "      <td>0.179000</td>\n",
       "      <td>0.000000</td>\n",
       "      <td>0.6890</td>\n",
       "      <td>0.625</td>\n",
       "      <td>129.965</td>\n",
       "    </tr>\n",
       "    <tr>\n",
       "      <th>2</th>\n",
       "      <td>0.558</td>\n",
       "      <td>0.559</td>\n",
       "      <td>-9.222</td>\n",
       "      <td>0.0959</td>\n",
       "      <td>0.371000</td>\n",
       "      <td>0.000007</td>\n",
       "      <td>0.1090</td>\n",
       "      <td>0.620</td>\n",
       "      <td>78.558</td>\n",
       "    </tr>\n",
       "    <tr>\n",
       "      <th>3</th>\n",
       "      <td>0.679</td>\n",
       "      <td>0.715</td>\n",
       "      <td>-6.383</td>\n",
       "      <td>0.0407</td>\n",
       "      <td>0.075500</td>\n",
       "      <td>0.000000</td>\n",
       "      <td>0.2710</td>\n",
       "      <td>0.571</td>\n",
       "      <td>127.435</td>\n",
       "    </tr>\n",
       "    <tr>\n",
       "      <th>4</th>\n",
       "      <td>0.778</td>\n",
       "      <td>0.824</td>\n",
       "      <td>-5.892</td>\n",
       "      <td>0.0707</td>\n",
       "      <td>0.284000</td>\n",
       "      <td>0.000000</td>\n",
       "      <td>0.4050</td>\n",
       "      <td>0.758</td>\n",
       "      <td>100.024</td>\n",
       "    </tr>\n",
       "    <tr>\n",
       "      <th>5</th>\n",
       "      <td>0.421</td>\n",
       "      <td>0.873</td>\n",
       "      <td>-4.343</td>\n",
       "      <td>0.0564</td>\n",
       "      <td>0.065400</td>\n",
       "      <td>0.000000</td>\n",
       "      <td>0.1230</td>\n",
       "      <td>0.629</td>\n",
       "      <td>84.786</td>\n",
       "    </tr>\n",
       "    <tr>\n",
       "      <th>6</th>\n",
       "      <td>0.497</td>\n",
       "      <td>0.865</td>\n",
       "      <td>-3.190</td>\n",
       "      <td>0.0644</td>\n",
       "      <td>0.030600</td>\n",
       "      <td>0.067900</td>\n",
       "      <td>0.4430</td>\n",
       "      <td>0.595</td>\n",
       "      <td>125.960</td>\n",
       "    </tr>\n",
       "    <tr>\n",
       "      <th>7</th>\n",
       "      <td>0.616</td>\n",
       "      <td>0.789</td>\n",
       "      <td>-4.874</td>\n",
       "      <td>0.0377</td>\n",
       "      <td>0.053000</td>\n",
       "      <td>0.000000</td>\n",
       "      <td>0.1420</td>\n",
       "      <td>0.621</td>\n",
       "      <td>83.066</td>\n",
       "    </tr>\n",
       "    <tr>\n",
       "      <th>8</th>\n",
       "      <td>0.751</td>\n",
       "      <td>0.783</td>\n",
       "      <td>-3.724</td>\n",
       "      <td>0.0859</td>\n",
       "      <td>0.003790</td>\n",
       "      <td>0.000000</td>\n",
       "      <td>0.0360</td>\n",
       "      <td>0.816</td>\n",
       "      <td>119.975</td>\n",
       "    </tr>\n",
       "    <tr>\n",
       "      <th>9</th>\n",
       "      <td>0.706</td>\n",
       "      <td>0.842</td>\n",
       "      <td>-4.628</td>\n",
       "      <td>0.0380</td>\n",
       "      <td>0.047600</td>\n",
       "      <td>0.000000</td>\n",
       "      <td>0.1340</td>\n",
       "      <td>0.818</td>\n",
       "      <td>104.958</td>\n",
       "    </tr>\n",
       "    <tr>\n",
       "      <th>10</th>\n",
       "      <td>0.327</td>\n",
       "      <td>0.941</td>\n",
       "      <td>-3.294</td>\n",
       "      <td>0.3530</td>\n",
       "      <td>0.023100</td>\n",
       "      <td>0.000000</td>\n",
       "      <td>0.0636</td>\n",
       "      <td>0.707</td>\n",
       "      <td>129.738</td>\n",
       "    </tr>\n",
       "    <tr>\n",
       "      <th>11</th>\n",
       "      <td>0.472</td>\n",
       "      <td>0.815</td>\n",
       "      <td>-4.002</td>\n",
       "      <td>0.3190</td>\n",
       "      <td>0.171000</td>\n",
       "      <td>0.000000</td>\n",
       "      <td>0.2650</td>\n",
       "      <td>0.810</td>\n",
       "      <td>98.017</td>\n",
       "    </tr>\n",
       "    <tr>\n",
       "      <th>12</th>\n",
       "      <td>0.754</td>\n",
       "      <td>0.933</td>\n",
       "      <td>-5.786</td>\n",
       "      <td>0.0448</td>\n",
       "      <td>0.019900</td>\n",
       "      <td>0.000000</td>\n",
       "      <td>0.2970</td>\n",
       "      <td>0.750</td>\n",
       "      <td>103.992</td>\n",
       "    </tr>\n",
       "    <tr>\n",
       "      <th>13</th>\n",
       "      <td>0.560</td>\n",
       "      <td>0.959</td>\n",
       "      <td>-2.433</td>\n",
       "      <td>0.1020</td>\n",
       "      <td>0.000722</td>\n",
       "      <td>0.000221</td>\n",
       "      <td>0.2090</td>\n",
       "      <td>0.669</td>\n",
       "      <td>163.983</td>\n",
       "    </tr>\n",
       "    <tr>\n",
       "      <th>14</th>\n",
       "      <td>0.728</td>\n",
       "      <td>0.859</td>\n",
       "      <td>-5.237</td>\n",
       "      <td>0.1370</td>\n",
       "      <td>0.040100</td>\n",
       "      <td>0.000000</td>\n",
       "      <td>0.1110</td>\n",
       "      <td>0.535</td>\n",
       "      <td>65.043</td>\n",
       "    </tr>\n",
       "    <tr>\n",
       "      <th>15</th>\n",
       "      <td>0.693</td>\n",
       "      <td>0.822</td>\n",
       "      <td>-5.441</td>\n",
       "      <td>0.0439</td>\n",
       "      <td>0.006160</td>\n",
       "      <td>0.000002</td>\n",
       "      <td>0.3150</td>\n",
       "      <td>0.763</td>\n",
       "      <td>126.035</td>\n",
       "    </tr>\n",
       "    <tr>\n",
       "      <th>16</th>\n",
       "      <td>0.687</td>\n",
       "      <td>0.855</td>\n",
       "      <td>-5.341</td>\n",
       "      <td>0.0416</td>\n",
       "      <td>0.048600</td>\n",
       "      <td>0.000000</td>\n",
       "      <td>0.2330</td>\n",
       "      <td>0.647</td>\n",
       "      <td>130.029</td>\n",
       "    </tr>\n",
       "    <tr>\n",
       "      <th>17</th>\n",
       "      <td>0.580</td>\n",
       "      <td>0.750</td>\n",
       "      <td>-4.421</td>\n",
       "      <td>0.1940</td>\n",
       "      <td>0.159000</td>\n",
       "      <td>0.000000</td>\n",
       "      <td>0.2740</td>\n",
       "      <td>0.728</td>\n",
       "      <td>86.938</td>\n",
       "    </tr>\n",
       "    <tr>\n",
       "      <th>18</th>\n",
       "      <td>0.695</td>\n",
       "      <td>0.628</td>\n",
       "      <td>-6.498</td>\n",
       "      <td>0.0442</td>\n",
       "      <td>0.053900</td>\n",
       "      <td>0.000000</td>\n",
       "      <td>0.3200</td>\n",
       "      <td>0.529</td>\n",
       "      <td>144.114</td>\n",
       "    </tr>\n",
       "    <tr>\n",
       "      <th>19</th>\n",
       "      <td>0.612</td>\n",
       "      <td>0.840</td>\n",
       "      <td>-3.145</td>\n",
       "      <td>0.0509</td>\n",
       "      <td>0.112000</td>\n",
       "      <td>0.000000</td>\n",
       "      <td>0.1160</td>\n",
       "      <td>0.438</td>\n",
       "      <td>129.042</td>\n",
       "    </tr>\n",
       "  </tbody>\n",
       "</table>\n",
       "</div>"
      ],
      "text/plain": [
       "    danceability  energy  loudness  speechiness  acousticness  \\\n",
       "0          0.566   0.664    -5.303       0.0464      0.634000   \n",
       "1          0.768   0.820    -4.630       0.0474      0.179000   \n",
       "2          0.558   0.559    -9.222       0.0959      0.371000   \n",
       "3          0.679   0.715    -6.383       0.0407      0.075500   \n",
       "4          0.778   0.824    -5.892       0.0707      0.284000   \n",
       "5          0.421   0.873    -4.343       0.0564      0.065400   \n",
       "6          0.497   0.865    -3.190       0.0644      0.030600   \n",
       "7          0.616   0.789    -4.874       0.0377      0.053000   \n",
       "8          0.751   0.783    -3.724       0.0859      0.003790   \n",
       "9          0.706   0.842    -4.628       0.0380      0.047600   \n",
       "10         0.327   0.941    -3.294       0.3530      0.023100   \n",
       "11         0.472   0.815    -4.002       0.3190      0.171000   \n",
       "12         0.754   0.933    -5.786       0.0448      0.019900   \n",
       "13         0.560   0.959    -2.433       0.1020      0.000722   \n",
       "14         0.728   0.859    -5.237       0.1370      0.040100   \n",
       "15         0.693   0.822    -5.441       0.0439      0.006160   \n",
       "16         0.687   0.855    -5.341       0.0416      0.048600   \n",
       "17         0.580   0.750    -4.421       0.1940      0.159000   \n",
       "18         0.695   0.628    -6.498       0.0442      0.053900   \n",
       "19         0.612   0.840    -3.145       0.0509      0.112000   \n",
       "\n",
       "    instrumentalness  liveness  valence    tempo  \n",
       "0           0.000000    0.1160    0.437  128.945  \n",
       "1           0.000000    0.6890    0.625  129.965  \n",
       "2           0.000007    0.1090    0.620   78.558  \n",
       "3           0.000000    0.2710    0.571  127.435  \n",
       "4           0.000000    0.4050    0.758  100.024  \n",
       "5           0.000000    0.1230    0.629   84.786  \n",
       "6           0.067900    0.4430    0.595  125.960  \n",
       "7           0.000000    0.1420    0.621   83.066  \n",
       "8           0.000000    0.0360    0.816  119.975  \n",
       "9           0.000000    0.1340    0.818  104.958  \n",
       "10          0.000000    0.0636    0.707  129.738  \n",
       "11          0.000000    0.2650    0.810   98.017  \n",
       "12          0.000000    0.2970    0.750  103.992  \n",
       "13          0.000221    0.2090    0.669  163.983  \n",
       "14          0.000000    0.1110    0.535   65.043  \n",
       "15          0.000002    0.3150    0.763  126.035  \n",
       "16          0.000000    0.2330    0.647  130.029  \n",
       "17          0.000000    0.2740    0.728   86.938  \n",
       "18          0.000000    0.3200    0.529  144.114  \n",
       "19          0.000000    0.1160    0.438  129.042  "
      ]
     },
     "execution_count": 617,
     "metadata": {},
     "output_type": "execute_result"
    }
   ],
   "source": [
    "# data_num.head(20)"
   ]
  },
  {
   "attachments": {},
   "cell_type": "markdown",
   "metadata": {},
   "source": [
    "2-  standardise the data using standardscaler\n",
    "\n"
   ]
  },
  {
   "cell_type": "code",
   "execution_count": 618,
   "metadata": {},
   "outputs": [
    {
     "data": {
      "text/html": [
       "<div>\n",
       "<style scoped>\n",
       "    .dataframe tbody tr th:only-of-type {\n",
       "        vertical-align: middle;\n",
       "    }\n",
       "\n",
       "    .dataframe tbody tr th {\n",
       "        vertical-align: top;\n",
       "    }\n",
       "\n",
       "    .dataframe thead th {\n",
       "        text-align: right;\n",
       "    }\n",
       "</style>\n",
       "<table border=\"1\" class=\"dataframe\">\n",
       "  <thead>\n",
       "    <tr style=\"text-align: right;\">\n",
       "      <th></th>\n",
       "      <th>danceability</th>\n",
       "      <th>energy</th>\n",
       "      <th>loudness</th>\n",
       "      <th>speechiness</th>\n",
       "      <th>acousticness</th>\n",
       "      <th>instrumentalness</th>\n",
       "      <th>liveness</th>\n",
       "      <th>valence</th>\n",
       "      <th>tempo</th>\n",
       "    </tr>\n",
       "  </thead>\n",
       "  <tbody>\n",
       "    <tr>\n",
       "      <th>0</th>\n",
       "      <td>-0.059960</td>\n",
       "      <td>0.009462</td>\n",
       "      <td>0.498624</td>\n",
       "      <td>-0.391846</td>\n",
       "      <td>1.357352</td>\n",
       "      <td>-0.475313</td>\n",
       "      <td>-0.456681</td>\n",
       "      <td>-0.159108</td>\n",
       "      <td>0.249080</td>\n",
       "    </tr>\n",
       "    <tr>\n",
       "      <th>1</th>\n",
       "      <td>1.103700</td>\n",
       "      <td>0.669518</td>\n",
       "      <td>0.630590</td>\n",
       "      <td>-0.379358</td>\n",
       "      <td>-0.179911</td>\n",
       "      <td>-0.475313</td>\n",
       "      <td>3.301449</td>\n",
       "      <td>0.608773</td>\n",
       "      <td>0.284726</td>\n",
       "    </tr>\n",
       "    <tr>\n",
       "      <th>2</th>\n",
       "      <td>-0.106046</td>\n",
       "      <td>-0.434807</td>\n",
       "      <td>-0.269840</td>\n",
       "      <td>0.226333</td>\n",
       "      <td>0.468780</td>\n",
       "      <td>-0.475287</td>\n",
       "      <td>-0.502592</td>\n",
       "      <td>0.588350</td>\n",
       "      <td>-1.511811</td>\n",
       "    </tr>\n",
       "    <tr>\n",
       "      <th>3</th>\n",
       "      <td>0.590998</td>\n",
       "      <td>0.225249</td>\n",
       "      <td>0.286850</td>\n",
       "      <td>-0.463031</td>\n",
       "      <td>-0.529596</td>\n",
       "      <td>-0.475313</td>\n",
       "      <td>0.559916</td>\n",
       "      <td>0.388211</td>\n",
       "      <td>0.196309</td>\n",
       "    </tr>\n",
       "    <tr>\n",
       "      <th>4</th>\n",
       "      <td>1.161307</td>\n",
       "      <td>0.686443</td>\n",
       "      <td>0.383129</td>\n",
       "      <td>-0.088376</td>\n",
       "      <td>0.174842</td>\n",
       "      <td>-0.475313</td>\n",
       "      <td>1.438781</td>\n",
       "      <td>1.152007</td>\n",
       "      <td>-0.761632</td>\n",
       "    </tr>\n",
       "  </tbody>\n",
       "</table>\n",
       "</div>"
      ],
      "text/plain": [
       "   danceability    energy  loudness  speechiness  acousticness  \\\n",
       "0     -0.059960  0.009462  0.498624    -0.391846      1.357352   \n",
       "1      1.103700  0.669518  0.630590    -0.379358     -0.179911   \n",
       "2     -0.106046 -0.434807 -0.269840     0.226333      0.468780   \n",
       "3      0.590998  0.225249  0.286850    -0.463031     -0.529596   \n",
       "4      1.161307  0.686443  0.383129    -0.088376      0.174842   \n",
       "\n",
       "   instrumentalness  liveness   valence     tempo  \n",
       "0         -0.475313 -0.456681 -0.159108  0.249080  \n",
       "1         -0.475313  3.301449  0.608773  0.284726  \n",
       "2         -0.475287 -0.502592  0.588350 -1.511811  \n",
       "3         -0.475313  0.559916  0.388211  0.196309  \n",
       "4         -0.475313  1.438781  1.152007 -0.761632  "
      ]
     },
     "execution_count": 618,
     "metadata": {},
     "output_type": "execute_result"
    }
   ],
   "source": [
    "scaler = StandardScaler()\n",
    "scaler.fit(data_num) #fitting the scaler to data. This is where to use pickle to save the MODEL\n",
    "data_scaled = scaler.transform(data_num) #to transform the existing data into the model above\n",
    "data_scaled_df = pd.DataFrame(data_scaled, columns = data_num.columns)\n",
    "# display(data_num.head())\n",
    "# print()\n",
    "data_scaled_df.head()"
   ]
  },
  {
   "cell_type": "code",
   "execution_count": 619,
   "metadata": {},
   "outputs": [],
   "source": [
    "# plt.hist(data_scaled_df['danceability']) #plot after scaled (look at x axis)"
   ]
  },
  {
   "cell_type": "code",
   "execution_count": 620,
   "metadata": {},
   "outputs": [],
   "source": [
    "# plt.hist(data_num['danceability']) #plot of original data"
   ]
  },
  {
   "cell_type": "code",
   "execution_count": 621,
   "metadata": {},
   "outputs": [],
   "source": [
    "# print(scaler)"
   ]
  },
  {
   "attachments": {},
   "cell_type": "markdown",
   "metadata": {},
   "source": [
    "3- save the scaler for future use for the new user input song. save it using pickle\n"
   ]
  },
  {
   "cell_type": "code",
   "execution_count": 622,
   "metadata": {},
   "outputs": [],
   "source": [
    "with open(\"scaler_spotify.pickle\", \"wb\") as f:\n",
    "    pickle.dump(scaler,f)"
   ]
  },
  {
   "attachments": {},
   "cell_type": "markdown",
   "metadata": {},
   "source": [
    "4- choosing the number of clusters k.\n"
   ]
  },
  {
   "attachments": {},
   "cell_type": "markdown",
   "metadata": {},
   "source": [
    "* Elbow method"
   ]
  },
  {
   "cell_type": "code",
   "execution_count": 623,
   "metadata": {},
   "outputs": [
    {
     "name": "stderr",
     "output_type": "stream",
     "text": [
      "/var/folders/zb/kc1nztnj6rv4tj8x45jd278h0000gn/T/ipykernel_29834/870976905.py:17: UserWarning: marker is redundantly defined by the 'marker' keyword argument and the fmt string \"bx-\" (-> marker='x'). The keyword argument will take precedence.\n",
      "  plt.plot(K, inertia, 'bx-', marker = \"o\")\n"
     ]
    },
    {
     "data": {
      "text/plain": [
       "Text(0.5, 1.0, 'Elbow Method showing the optimal k')"
      ]
     },
     "execution_count": 623,
     "metadata": {},
     "output_type": "execute_result"
    },
    {
     "data": {
      "image/png": "[encoded data removed]",
      "text/plain": [
       "<Figure size 1152x576 with 1 Axes>"
      ]
     },
     "metadata": {
      "needs_background": "light"
     },
     "output_type": "display_data"
    }
   ],
   "source": [
    "K = range(3, 20)\n",
    "inertia = []\n",
    "\n",
    "for k in K:\n",
    "    # print(\"Training a K-Means model with {} clusters! \".format(k))\n",
    "    # print()\n",
    "    kmeans = KMeans(n_clusters=k,\n",
    "                    random_state=1234)\n",
    "    kmeans.fit(data_scaled_df)\n",
    "    inertia.append(kmeans.inertia_)\n",
    "\n",
    "import numpy as np\n",
    "import matplotlib.pyplot as plt\n",
    "%matplotlib inline\n",
    "\n",
    "plt.figure(figsize=(16,8))\n",
    "plt.plot(K, inertia, 'bx-', marker = \"o\")\n",
    "plt.xlabel('k')\n",
    "plt.ylabel('inertia')\n",
    "plt.xticks(np.arange(min(K), max(K)+1, 1.0))\n",
    "plt.title('Elbow Method showing the optimal k')"
   ]
  },
  {
   "attachments": {},
   "cell_type": "markdown",
   "metadata": {},
   "source": [
    "* Silouhette method"
   ]
  },
  {
   "cell_type": "code",
   "execution_count": 624,
   "metadata": {},
   "outputs": [
    {
     "name": "stderr",
     "output_type": "stream",
     "text": [
      "/var/folders/zb/kc1nztnj6rv4tj8x45jd278h0000gn/T/ipykernel_29834/375781976.py:17: UserWarning: marker is redundantly defined by the 'marker' keyword argument and the fmt string \"bx-\" (-> marker='x'). The keyword argument will take precedence.\n",
      "  plt.plot(K, silhouette, 'bx-', marker = \"o\")\n"
     ]
    },
    {
     "data": {
      "text/plain": [
       "Text(0.5, 1.0, 'Silhouette Method showing the optimal k')"
      ]
     },
     "execution_count": 624,
     "metadata": {},
     "output_type": "execute_result"
    },
    {
     "data": {
      "image/png": "[encoded data removed]",
      "text/plain": [
       "<Figure size 1152x576 with 1 Axes>"
      ]
     },
     "metadata": {
      "needs_background": "light"
     },
     "output_type": "display_data"
    }
   ],
   "source": [
    "K = range(3, 20)\n",
    "silhouette = []\n",
    "\n",
    "for k in K:\n",
    "    kmeans = KMeans(n_clusters=k,\n",
    "                    random_state=1234)\n",
    "    kmeans.fit(data_scaled_df)\n",
    "    \n",
    "    # filename = \"Model/kmeans_\" + str(k) + \".pickle\"\n",
    "    # with open(filename, \"wb\") as f:\n",
    "    #     pickle.dump(kmeans,f)\n",
    "    \n",
    "    silhouette.append(silhouette_score(data_scaled_df, kmeans.predict(data_scaled_df)))\n",
    "\n",
    "\n",
    "plt.figure(figsize=(16,8))\n",
    "plt.plot(K, silhouette, 'bx-', marker = \"o\")\n",
    "plt.xlabel('k')\n",
    "plt.ylabel('silhouette score')\n",
    "plt.xticks(np.arange(min(K), max(K)+1, 1.0))\n",
    "plt.title('Silhouette Method showing the optimal k')"
   ]
  },
  {
   "attachments": {},
   "cell_type": "markdown",
   "metadata": {},
   "source": [
    "* Yellowbrick check"
   ]
  },
  {
   "cell_type": "code",
   "execution_count": 625,
   "metadata": {},
   "outputs": [],
   "source": [
    "# from yellowbrick.cluster import SilhouetteVisualizer\n",
    "# model = KMeans(6, random_state=42)\n",
    "# visualizer = SilhouetteVisualizer(model, colors='yellowbrick')\n",
    "# visualizer.fit(data_scaled_df)\n",
    "# visualizer.show()"
   ]
  },
  {
   "cell_type": "code",
   "execution_count": 626,
   "metadata": {},
   "outputs": [],
   "source": [
    "# from yellowbrick.cluster import SilhouetteVisualizer\n",
    "# model = KMeans(9, random_state=42)\n",
    "# visualizer = SilhouetteVisualizer(model, colors='yellowbrick')\n",
    "# visualizer.fit(data_scaled_df)\n",
    "# visualizer.show()"
   ]
  },
  {
   "attachments": {},
   "cell_type": "markdown",
   "metadata": {},
   "source": [
    "* ==> best fit k = 8"
   ]
  },
  {
   "attachments": {},
   "cell_type": "markdown",
   "metadata": {},
   "source": [
    "5- fitting  k means cluster.\n"
   ]
  },
  {
   "cell_type": "code",
   "execution_count": 627,
   "metadata": {},
   "outputs": [],
   "source": [
    "k_final = 8"
   ]
  },
  {
   "cell_type": "code",
   "execution_count": 628,
   "metadata": {},
   "outputs": [
    {
     "data": {
      "text/html": [
       "<style>#sk-container-id-14 {color: black;background-color: white;}#sk-container-id-14 pre{padding: 0;}#sk-container-id-14 div.sk-toggleable {background-color: white;}#sk-container-id-14 label.sk-toggleable__label {cursor: pointer;display: block;width: 100%;margin-bottom: 0;padding: 0.3em;box-sizing: border-box;text-align: center;}#sk-container-id-14 label.sk-toggleable__label-arrow:before {content: \"▸\";float: left;margin-right: 0.25em;color: #696969;}#sk-container-id-14 label.sk-toggleable__label-arrow:hover:before {color: black;}#sk-container-id-14 div.sk-estimator:hover label.sk-toggleable__label-arrow:before {color: black;}#sk-container-id-14 div.sk-toggleable__content {max-height: 0;max-width: 0;overflow: hidden;text-align: left;background-color: #f0f8ff;}#sk-container-id-14 div.sk-toggleable__content pre {margin: 0.2em;color: black;border-radius: 0.25em;background-color: #f0f8ff;}#sk-container-id-14 input.sk-toggleable__control:checked~div.sk-toggleable__content {max-height: 200px;max-width: 100%;overflow: auto;}#sk-container-id-14 input.sk-toggleable__control:checked~label.sk-toggleable__label-arrow:before {content: \"▾\";}#sk-container-id-14 div.sk-estimator input.sk-toggleable__control:checked~label.sk-toggleable__label {background-color: #d4ebff;}#sk-container-id-14 div.sk-label input.sk-toggleable__control:checked~label.sk-toggleable__label {background-color: #d4ebff;}#sk-container-id-14 input.sk-hidden--visually {border: 0;clip: rect(1px 1px 1px 1px);clip: rect(1px, 1px, 1px, 1px);height: 1px;margin: -1px;overflow: hidden;padding: 0;position: absolute;width: 1px;}#sk-container-id-14 div.sk-estimator {font-family: monospace;background-color: #f0f8ff;border: 1px dotted black;border-radius: 0.25em;box-sizing: border-box;margin-bottom: 0.5em;}#sk-container-id-14 div.sk-estimator:hover {background-color: #d4ebff;}#sk-container-id-14 div.sk-parallel-item::after {content: \"\";width: 100%;border-bottom: 1px solid gray;flex-grow: 1;}#sk-container-id-14 div.sk-label:hover label.sk-toggleable__label {background-color: #d4ebff;}#sk-container-id-14 div.sk-serial::before {content: \"\";position: absolute;border-left: 1px solid gray;box-sizing: border-box;top: 0;bottom: 0;left: 50%;z-index: 0;}#sk-container-id-14 div.sk-serial {display: flex;flex-direction: column;align-items: center;background-color: white;padding-right: 0.2em;padding-left: 0.2em;position: relative;}#sk-container-id-14 div.sk-item {position: relative;z-index: 1;}#sk-container-id-14 div.sk-parallel {display: flex;align-items: stretch;justify-content: center;background-color: white;position: relative;}#sk-container-id-14 div.sk-item::before, #sk-container-id-14 div.sk-parallel-item::before {content: \"\";position: absolute;border-left: 1px solid gray;box-sizing: border-box;top: 0;bottom: 0;left: 50%;z-index: -1;}#sk-container-id-14 div.sk-parallel-item {display: flex;flex-direction: column;z-index: 1;position: relative;background-color: white;}#sk-container-id-14 div.sk-parallel-item:first-child::after {align-self: flex-end;width: 50%;}#sk-container-id-14 div.sk-parallel-item:last-child::after {align-self: flex-start;width: 50%;}#sk-container-id-14 div.sk-parallel-item:only-child::after {width: 0;}#sk-container-id-14 div.sk-dashed-wrapped {border: 1px dashed gray;margin: 0 0.4em 0.5em 0.4em;box-sizing: border-box;padding-bottom: 0.4em;background-color: white;}#sk-container-id-14 div.sk-label label {font-family: monospace;font-weight: bold;display: inline-block;line-height: 1.2em;}#sk-container-id-14 div.sk-label-container {text-align: center;}#sk-container-id-14 div.sk-container {/* jupyter's `normalize.less` sets `[hidden] { display: none; }` but bootstrap.min.css set `[hidden] { display: none !important; }` so we also need the `!important` here to be able to override the default hidden behavior on the sphinx rendered scikit-learn.org. See: https://github.com/scikit-learn/scikit-learn/issues/21755 */display: inline-block !important;position: relative;}#sk-container-id-14 div.sk-text-repr-fallback {display: none;}</style><div id=\"sk-container-id-14\" class=\"sk-top-container\"><div class=\"sk-text-repr-fallback\"><pre>KMeans(random_state=1234)</pre><b>In a Jupyter environment, please rerun this cell to show the HTML representation or trust the notebook. <br />On GitHub, the HTML representation is unable to render, please try loading this page with nbviewer.org.</b></div><div class=\"sk-container\" hidden><div class=\"sk-item\"><div class=\"sk-estimator sk-toggleable\"><input class=\"sk-toggleable__control sk-hidden--visually\" id=\"sk-estimator-id-14\" type=\"checkbox\" checked><label for=\"sk-estimator-id-14\" class=\"sk-toggleable__label sk-toggleable__label-arrow\">KMeans</label><div class=\"sk-toggleable__content\"><pre>KMeans(random_state=1234)</pre></div></div></div></div></div>"
      ],
      "text/plain": [
       "KMeans(random_state=1234)"
      ]
     },
     "execution_count": 628,
     "metadata": {},
     "output_type": "execute_result"
    }
   ],
   "source": [
    "kmeans = KMeans(n_clusters=k_final, random_state=1234)\n",
    "kmeans.fit(data_scaled_df)"
   ]
  },
  {
   "attachments": {},
   "cell_type": "markdown",
   "metadata": {},
   "source": [
    "6- build the elbow graph to find the best k.\n"
   ]
  },
  {
   "cell_type": "code",
   "execution_count": 629,
   "metadata": {},
   "outputs": [],
   "source": [
    "# as above"
   ]
  },
  {
   "attachments": {},
   "cell_type": "markdown",
   "metadata": {},
   "source": [
    "7- use the model with the best k to assign every observation in your data frame to its cluster number ( adding cluster columns to the pandas data frame) using model.predict\n"
   ]
  },
  {
   "cell_type": "code",
   "execution_count": 630,
   "metadata": {},
   "outputs": [
    {
     "data": {
      "text/plain": [
       "0    3016\n",
       "1    1122\n",
       "2    4297\n",
       "3    4954\n",
       "4    2394\n",
       "5    1742\n",
       "6    1238\n",
       "7    1140\n",
       "dtype: int64"
      ]
     },
     "execution_count": 630,
     "metadata": {},
     "output_type": "execute_result"
    }
   ],
   "source": [
    "labels = kmeans.predict(data_scaled_df)\n",
    "\n",
    "pd.Series(labels).value_counts().sort_index()\n"
   ]
  },
  {
   "cell_type": "code",
   "execution_count": 631,
   "metadata": {},
   "outputs": [
    {
     "data": {
      "text/html": [
       "<div>\n",
       "<style scoped>\n",
       "    .dataframe tbody tr th:only-of-type {\n",
       "        vertical-align: middle;\n",
       "    }\n",
       "\n",
       "    .dataframe tbody tr th {\n",
       "        vertical-align: top;\n",
       "    }\n",
       "\n",
       "    .dataframe thead th {\n",
       "        text-align: right;\n",
       "    }\n",
       "</style>\n",
       "<table border=\"1\" class=\"dataframe\">\n",
       "  <thead>\n",
       "    <tr style=\"text-align: right;\">\n",
       "      <th></th>\n",
       "      <th>Unnamed: 0</th>\n",
       "      <th>Unnamed: 0.1</th>\n",
       "      <th>danceability</th>\n",
       "      <th>energy</th>\n",
       "      <th>loudness</th>\n",
       "      <th>speechiness</th>\n",
       "      <th>acousticness</th>\n",
       "      <th>instrumentalness</th>\n",
       "      <th>liveness</th>\n",
       "      <th>valence</th>\n",
       "      <th>tempo</th>\n",
       "      <th>id</th>\n",
       "      <th>duration_ms</th>\n",
       "      <th>cluster</th>\n",
       "    </tr>\n",
       "  </thead>\n",
       "  <tbody>\n",
       "    <tr>\n",
       "      <th>0</th>\n",
       "      <td>0</td>\n",
       "      <td>0</td>\n",
       "      <td>0.566</td>\n",
       "      <td>0.664</td>\n",
       "      <td>-5.303</td>\n",
       "      <td>0.0464</td>\n",
       "      <td>0.6340</td>\n",
       "      <td>0.000000</td>\n",
       "      <td>0.116</td>\n",
       "      <td>0.437</td>\n",
       "      <td>128.945</td>\n",
       "      <td>3dYD57lRAUcMHufyqn9GcI</td>\n",
       "      <td>241688</td>\n",
       "      <td>4</td>\n",
       "    </tr>\n",
       "    <tr>\n",
       "      <th>1</th>\n",
       "      <td>1</td>\n",
       "      <td>1</td>\n",
       "      <td>0.768</td>\n",
       "      <td>0.820</td>\n",
       "      <td>-4.630</td>\n",
       "      <td>0.0474</td>\n",
       "      <td>0.1790</td>\n",
       "      <td>0.000000</td>\n",
       "      <td>0.689</td>\n",
       "      <td>0.625</td>\n",
       "      <td>129.965</td>\n",
       "      <td>2V4bv1fNWfTcyRJKmej6Sj</td>\n",
       "      <td>213293</td>\n",
       "      <td>7</td>\n",
       "    </tr>\n",
       "    <tr>\n",
       "      <th>2</th>\n",
       "      <td>2</td>\n",
       "      <td>2</td>\n",
       "      <td>0.558</td>\n",
       "      <td>0.559</td>\n",
       "      <td>-9.222</td>\n",
       "      <td>0.0959</td>\n",
       "      <td>0.3710</td>\n",
       "      <td>0.000007</td>\n",
       "      <td>0.109</td>\n",
       "      <td>0.620</td>\n",
       "      <td>78.558</td>\n",
       "      <td>7KA4W4McWYRpgf0fWsJZWB</td>\n",
       "      <td>180387</td>\n",
       "      <td>2</td>\n",
       "    </tr>\n",
       "    <tr>\n",
       "      <th>3</th>\n",
       "      <td>3</td>\n",
       "      <td>3</td>\n",
       "      <td>0.679</td>\n",
       "      <td>0.715</td>\n",
       "      <td>-6.383</td>\n",
       "      <td>0.0407</td>\n",
       "      <td>0.0755</td>\n",
       "      <td>0.000000</td>\n",
       "      <td>0.271</td>\n",
       "      <td>0.571</td>\n",
       "      <td>127.435</td>\n",
       "      <td>4Ub8UsjWuewQrPhuepfVpd</td>\n",
       "      <td>214148</td>\n",
       "      <td>3</td>\n",
       "    </tr>\n",
       "    <tr>\n",
       "      <th>4</th>\n",
       "      <td>4</td>\n",
       "      <td>4</td>\n",
       "      <td>0.778</td>\n",
       "      <td>0.824</td>\n",
       "      <td>-5.892</td>\n",
       "      <td>0.0707</td>\n",
       "      <td>0.2840</td>\n",
       "      <td>0.000000</td>\n",
       "      <td>0.405</td>\n",
       "      <td>0.758</td>\n",
       "      <td>100.024</td>\n",
       "      <td>3ZFTkvIE7kyPt6Nu3PEa7V</td>\n",
       "      <td>218093</td>\n",
       "      <td>3</td>\n",
       "    </tr>\n",
       "  </tbody>\n",
       "</table>\n",
       "</div>"
      ],
      "text/plain": [
       "   Unnamed: 0  Unnamed: 0.1  danceability  energy  loudness  speechiness  \\\n",
       "0           0             0         0.566   0.664    -5.303       0.0464   \n",
       "1           1             1         0.768   0.820    -4.630       0.0474   \n",
       "2           2             2         0.558   0.559    -9.222       0.0959   \n",
       "3           3             3         0.679   0.715    -6.383       0.0407   \n",
       "4           4             4         0.778   0.824    -5.892       0.0707   \n",
       "\n",
       "   acousticness  instrumentalness  liveness  valence    tempo  \\\n",
       "0        0.6340          0.000000     0.116    0.437  128.945   \n",
       "1        0.1790          0.000000     0.689    0.625  129.965   \n",
       "2        0.3710          0.000007     0.109    0.620   78.558   \n",
       "3        0.0755          0.000000     0.271    0.571  127.435   \n",
       "4        0.2840          0.000000     0.405    0.758  100.024   \n",
       "\n",
       "                       id  duration_ms  cluster  \n",
       "0  3dYD57lRAUcMHufyqn9GcI       241688        4  \n",
       "1  2V4bv1fNWfTcyRJKmej6Sj       213293        7  \n",
       "2  7KA4W4McWYRpgf0fWsJZWB       180387        2  \n",
       "3  4Ub8UsjWuewQrPhuepfVpd       214148        3  \n",
       "4  3ZFTkvIE7kyPt6Nu3PEa7V       218093        3  "
      ]
     },
     "execution_count": 631,
     "metadata": {},
     "output_type": "execute_result"
    }
   ],
   "source": [
    "original_data[\"cluster\"] = labels\n",
    "original_data.head()"
   ]
  },
  {
   "attachments": {},
   "cell_type": "markdown",
   "metadata": {},
   "source": [
    "8-save the model with the best k as your final model  using pickle.\n"
   ]
  },
  {
   "cell_type": "code",
   "execution_count": 632,
   "metadata": {},
   "outputs": [],
   "source": [
    "filename = \"kmeans_spotify_\" + str(k_final) + \".pickle\"\n",
    "with open(filename, \"wb\") as f:\n",
    "    pickle.dump(kmeans,f)"
   ]
  },
  {
   "attachments": {},
   "cell_type": "markdown",
   "metadata": {},
   "source": [
    "## START THE PARTY"
   ]
  },
  {
   "attachments": {},
   "cell_type": "markdown",
   "metadata": {},
   "source": [
    "for the user input tasks and  the full scenario:\n",
    "\n",
    "1- get the song name from the user as an input\n"
   ]
  },
  {
   "cell_type": "code",
   "execution_count": 633,
   "metadata": {},
   "outputs": [],
   "source": [
    "song_input = input(\"Please enter your favourite song: \")"
   ]
  },
  {
   "cell_type": "code",
   "execution_count": 634,
   "metadata": {},
   "outputs": [],
   "source": [
    "artist_input = input(\"Who is the artist for this song: \")"
   ]
  },
  {
   "cell_type": "code",
   "execution_count": 635,
   "metadata": {},
   "outputs": [],
   "source": [
    "results = sp.search(q=str(song_input + artist_input),limit=1,market=\"GB\")"
   ]
  },
  {
   "cell_type": "code",
   "execution_count": 636,
   "metadata": {},
   "outputs": [],
   "source": [
    "track_id = results['tracks']['items'][0]['id']"
   ]
  },
  {
   "attachments": {},
   "cell_type": "markdown",
   "metadata": {},
   "source": [
    "2- play the input song in music embed player.\n"
   ]
  },
  {
   "cell_type": "code",
   "execution_count": 637,
   "metadata": {},
   "outputs": [
    {
     "data": {
      "text/html": [
       "\n",
       "        <iframe\n",
       "            width=\"320\"\n",
       "            height=\"80\"\n",
       "            src=\"https://open.spotify.com/embed/track/6bNB5gxFX6Q87DbQWb8OWZ?utm_source=generator?frameborder=0&allowtransparency=true&allow=encrypted-media\"\n",
       "            frameborder=\"0\"\n",
       "            allowfullscreen\n",
       "            \n",
       "        ></iframe>\n",
       "        "
      ],
      "text/plain": [
       "<IPython.lib.display.IFrame at 0x148f55150>"
      ]
     },
     "execution_count": 637,
     "metadata": {},
     "output_type": "execute_result"
    }
   ],
   "source": [
    "from IPython.display import IFrame\n",
    "\n",
    "IFrame(src=\"https://open.spotify.com/embed/track/\"+track_id+\"?utm_source=generator\",\n",
    "       width=\"320\",\n",
    "       height=\"80\",\n",
    "       frameborder=\"0\",\n",
    "       allowtransparency=\"true\",\n",
    "       allow=\"encrypted-media\",\n",
    "      )"
   ]
  },
  {
   "attachments": {},
   "cell_type": "markdown",
   "metadata": {},
   "source": [
    "3- get the audio features for that song from spotify API. using sp.audio_features(trackid) . pay attention to keep  only the audio features columns.\n"
   ]
  },
  {
   "cell_type": "code",
   "execution_count": 638,
   "metadata": {},
   "outputs": [],
   "source": [
    "track_features = sp.audio_features(track_id)"
   ]
  },
  {
   "cell_type": "code",
   "execution_count": 639,
   "metadata": {},
   "outputs": [
    {
     "data": {
      "text/html": [
       "<div>\n",
       "<style scoped>\n",
       "    .dataframe tbody tr th:only-of-type {\n",
       "        vertical-align: middle;\n",
       "    }\n",
       "\n",
       "    .dataframe tbody tr th {\n",
       "        vertical-align: top;\n",
       "    }\n",
       "\n",
       "    .dataframe thead th {\n",
       "        text-align: right;\n",
       "    }\n",
       "</style>\n",
       "<table border=\"1\" class=\"dataframe\">\n",
       "  <thead>\n",
       "    <tr style=\"text-align: right;\">\n",
       "      <th></th>\n",
       "      <th>danceability</th>\n",
       "      <th>energy</th>\n",
       "      <th>loudness</th>\n",
       "      <th>speechiness</th>\n",
       "      <th>acousticness</th>\n",
       "      <th>instrumentalness</th>\n",
       "      <th>liveness</th>\n",
       "      <th>valence</th>\n",
       "      <th>tempo</th>\n",
       "    </tr>\n",
       "  </thead>\n",
       "  <tbody>\n",
       "    <tr>\n",
       "      <th>0</th>\n",
       "      <td>0.758</td>\n",
       "      <td>0.871</td>\n",
       "      <td>-6.408</td>\n",
       "      <td>0.147</td>\n",
       "      <td>0.0062</td>\n",
       "      <td>0</td>\n",
       "      <td>0.0663</td>\n",
       "      <td>0.753</td>\n",
       "      <td>126.994</td>\n",
       "    </tr>\n",
       "  </tbody>\n",
       "</table>\n",
       "</div>"
      ],
      "text/plain": [
       "   danceability  energy  loudness  speechiness  acousticness  \\\n",
       "0         0.758   0.871    -6.408        0.147        0.0062   \n",
       "\n",
       "   instrumentalness  liveness  valence    tempo  \n",
       "0                 0    0.0663    0.753  126.994  "
      ]
     },
     "execution_count": 639,
     "metadata": {},
     "output_type": "execute_result"
    }
   ],
   "source": [
    "df = pd.DataFrame(track_features)\n",
    "df=df[[\"danceability\",\"energy\",\"loudness\",\"speechiness\",\"acousticness\",\n",
    "    \"instrumentalness\",\"liveness\",\"valence\",\"tempo\"]]\n",
    "df"
   ]
  },
  {
   "attachments": {},
   "cell_type": "markdown",
   "metadata": {},
   "source": [
    "4- load the stabdardscaler using pickle and use it to scale the new song.\n"
   ]
  },
  {
   "cell_type": "code",
   "execution_count": 640,
   "metadata": {},
   "outputs": [],
   "source": [
    "with open(\"./scaler_spotify.pickle\", \"rb\") as f:\n",
    "    saved_scaler = pickle.load(f) \n",
    "\n",
    "# from pickle import load\n",
    "# saved_scaler = pickle.load(open(\"./scaler_spotify.pickle\", \"rb\"))\n",
    "\n"
   ]
  },
  {
   "cell_type": "code",
   "execution_count": 641,
   "metadata": {},
   "outputs": [],
   "source": [
    "scaled_user_input = saved_scaler.transform(df)\n"
   ]
  },
  {
   "attachments": {},
   "cell_type": "markdown",
   "metadata": {},
   "source": [
    "5- using kmeans_model.predict(new scaled audio record for the new song) to predict the cluster (label) for the new song.\n"
   ]
  },
  {
   "cell_type": "code",
   "execution_count": 642,
   "metadata": {},
   "outputs": [
    {
     "name": "stderr",
     "output_type": "stream",
     "text": [
      "/Users/thaopham/.pyenv/versions/3.10.4/lib/python3.10/site-packages/sklearn/base.py:450: UserWarning: X does not have valid feature names, but KMeans was fitted with feature names\n",
      "  warnings.warn(\n"
     ]
    }
   ],
   "source": [
    "input_label = kmeans.predict(scaled_user_input)"
   ]
  },
  {
   "cell_type": "code",
   "execution_count": 643,
   "metadata": {},
   "outputs": [
    {
     "data": {
      "text/plain": [
       "array([3], dtype=int32)"
      ]
     },
     "execution_count": 643,
     "metadata": {},
     "output_type": "execute_result"
    }
   ],
   "source": [
    "input_label"
   ]
  },
  {
   "attachments": {},
   "cell_type": "markdown",
   "metadata": {},
   "source": [
    "6- return random song from the same cluster   that the new song belongs to from your data frame and suggest it to the user.\n"
   ]
  },
  {
   "cell_type": "code",
   "execution_count": 644,
   "metadata": {},
   "outputs": [],
   "source": [
    "recommended_id = original_data[original_data['cluster'] == int(input_label)].sample()['id']"
   ]
  },
  {
   "cell_type": "code",
   "execution_count": 645,
   "metadata": {},
   "outputs": [],
   "source": [
    "recommended_id = str(recommended_id.iloc[0])"
   ]
  },
  {
   "cell_type": "code",
   "execution_count": 646,
   "metadata": {},
   "outputs": [
    {
     "data": {
      "text/plain": [
       "str"
      ]
     },
     "execution_count": 646,
     "metadata": {},
     "output_type": "execute_result"
    }
   ],
   "source": [
    "type(recommended_id)"
   ]
  },
  {
   "attachments": {},
   "cell_type": "markdown",
   "metadata": {},
   "source": [
    "7-  play it using embedded music player"
   ]
  },
  {
   "cell_type": "code",
   "execution_count": 647,
   "metadata": {},
   "outputs": [
    {
     "data": {
      "text/html": [
       "\n",
       "        <iframe\n",
       "            width=\"320\"\n",
       "            height=\"80\"\n",
       "            src=\"https://open.spotify.com/embed/track/760klboT1E03jUt7CiVhbV?utm_source=generator?frameborder=0&allowtransparency=true&allow=encrypted-media\"\n",
       "            frameborder=\"0\"\n",
       "            allowfullscreen\n",
       "            \n",
       "        ></iframe>\n",
       "        "
      ],
      "text/plain": [
       "<IPython.lib.display.IFrame at 0x148eef760>"
      ]
     },
     "execution_count": 647,
     "metadata": {},
     "output_type": "execute_result"
    }
   ],
   "source": [
    "IFrame(src=\"https://open.spotify.com/embed/track/\"+recommended_id+\"?utm_source=generator\",\n",
    "       width=\"320\",\n",
    "       height=\"80\",\n",
    "       frameborder=\"0\",\n",
    "       allowtransparency=\"true\",\n",
    "       allow=\"encrypted-media\",\n",
    "      )\n",
    "\n"
   ]
  },
  {
   "cell_type": "code",
   "execution_count": 648,
   "metadata": {},
   "outputs": [],
   "source": [
    "def play_song(recommended_id):\n",
    "    return IFrame(src=\"https://open.spotify.com/embed/track/\"+recommended_id,\n",
    "       width=\"320\",\n",
    "       height=\"80\",\n",
    "       frameborder=\"0\",\n",
    "       allowtransparency=\"true\",\n",
    "       allow=\"encrypted-media\",\n",
    "      )"
   ]
  },
  {
   "cell_type": "code",
   "execution_count": 649,
   "metadata": {},
   "outputs": [],
   "source": [
    "def recommend_song(userInputTrackId,saved_scaler,kmeans,original_data):\n",
    "    ## get the audio features of the userSong\n",
    "    track_id=sp.audio_features(userInputTrackId)[0]\n",
    "    ## only filter the features that has been used for clustering\n",
    "    df = pd.DataFrame(track_features)\n",
    "    df=df[[\"danceability\",\"energy\",\"loudness\",\"speechiness\",\"acousticness\", \"instrumentalness\",\"liveness\",\"valence\",\"tempo\"]]\n",
    "\n",
    "    ##scaling the new song\n",
    "    scaled_user_input = saved_scaler.transform(df)\n",
    "    \n",
    "    ## find the closest cluster to the userSong\n",
    "    input_label = kmeans.predict(scaled_user_input)[0]\n",
    "    \n",
    "    ## return the track id from a random song within the closest cluster\n",
    "    recommended_id = original_data[original_data['cluster'] == int(input_label)].sample()['id']\n",
    "    recommended_id = str(recommended_id.iloc[0])\n",
    "\n",
    "    return recommended_id"
   ]
  },
  {
   "cell_type": "code",
   "execution_count": 650,
   "metadata": {},
   "outputs": [],
   "source": [
    "# kmeans.cluster_centers_"
   ]
  },
  {
   "cell_type": "code",
   "execution_count": 651,
   "metadata": {},
   "outputs": [
    {
     "data": {
      "text/plain": [
       "<AxesSubplot:>"
      ]
     },
     "execution_count": 651,
     "metadata": {},
     "output_type": "execute_result"
    },
    {
     "data": {
      "image/png": "[encoded data removed]",
      "text/plain": [
       "<Figure size 432x288 with 2 Axes>"
      ]
     },
     "metadata": {
      "needs_background": "light"
     },
     "output_type": "display_data"
    }
   ],
   "source": [
    "import seaborn as sns\n",
    "\n",
    "sns.heatmap(pd.DataFrame(kmeans.cluster_centers_, columns=data_num.columns))"
   ]
  },
  {
   "attachments": {},
   "cell_type": "markdown",
   "metadata": {},
   "source": [
    "### DEMO"
   ]
  },
  {
   "cell_type": "code",
   "execution_count": 656,
   "metadata": {},
   "outputs": [
    {
     "name": "stdout",
     "output_type": "stream",
     "text": [
      "\n",
      " You have chosen: \n"
     ]
    },
    {
     "data": {
      "text/html": [
       "\n",
       "        <iframe\n",
       "            width=\"320\"\n",
       "            height=\"80\"\n",
       "            src=\"https://open.spotify.com/embed/track/2xHGN5BKHvN7FlXWVHWmbF?frameborder=0&allowtransparency=true&allow=encrypted-media\"\n",
       "            frameborder=\"0\"\n",
       "            allowfullscreen\n",
       "            \n",
       "        ></iframe>\n",
       "        "
      ],
      "text/plain": [
       "<IPython.lib.display.IFrame at 0x14879c820>"
      ]
     },
     "metadata": {},
     "output_type": "display_data"
    },
    {
     "name": "stdout",
     "output_type": "stream",
     "text": [
      "---------\n",
      " The recommended song is:\n"
     ]
    },
    {
     "name": "stderr",
     "output_type": "stream",
     "text": [
      "/Users/thaopham/.pyenv/versions/3.10.4/lib/python3.10/site-packages/sklearn/base.py:450: UserWarning: X does not have valid feature names, but KMeans was fitted with feature names\n",
      "  warnings.warn(\n"
     ]
    },
    {
     "data": {
      "text/html": [
       "\n",
       "        <iframe\n",
       "            width=\"320\"\n",
       "            height=\"80\"\n",
       "            src=\"https://open.spotify.com/embed/track/7oGZAicScQt96OAW4AruYy?frameborder=0&allowtransparency=true&allow=encrypted-media\"\n",
       "            frameborder=\"0\"\n",
       "            allowfullscreen\n",
       "            \n",
       "        ></iframe>\n",
       "        "
      ],
      "text/plain": [
       "<IPython.lib.display.IFrame at 0x148b2cd60>"
      ]
     },
     "metadata": {},
     "output_type": "display_data"
    }
   ],
   "source": [
    "##take input from user \n",
    "song_input = input(\"Please enter your favourite song: \")\n",
    "artist_input = input('Who is the artist for this song:')\n",
    "print(\"\\n You have chosen: \")\n",
    "results = sp.search(q=str(song_input + artist_input),limit=1,market=\"GB\")\n",
    "track_id=results['tracks']['items'][0]['id']\n",
    "display(play_song(track_id))\n",
    "\n",
    "\n",
    "recommended_id=recommend_song(track_id,saved_scaler,kmeans,original_data)\n",
    "print(\"---------\\n The recommended song is:\")\n",
    "display(play_song(recommended_id))\n",
    "\n",
    "recommended_features = pd.DataFrame(sp.audio_features(recommended_id))\n",
    "recommended_features = recommended_features[[\"danceability\",\"energy\",\"loudness\",\"speechiness\",\"acousticness\",\n",
    "    \"instrumentalness\",\"liveness\",\"valence\",\"tempo\"]]\n"
   ]
  },
  {
   "cell_type": "code",
   "execution_count": 653,
   "metadata": {},
   "outputs": [
    {
     "data": {
      "text/html": [
       "<div>\n",
       "<style scoped>\n",
       "    .dataframe tbody tr th:only-of-type {\n",
       "        vertical-align: middle;\n",
       "    }\n",
       "\n",
       "    .dataframe tbody tr th {\n",
       "        vertical-align: top;\n",
       "    }\n",
       "\n",
       "    .dataframe thead th {\n",
       "        text-align: right;\n",
       "    }\n",
       "</style>\n",
       "<table border=\"1\" class=\"dataframe\">\n",
       "  <thead>\n",
       "    <tr style=\"text-align: right;\">\n",
       "      <th></th>\n",
       "      <th>danceability</th>\n",
       "      <th>energy</th>\n",
       "      <th>loudness</th>\n",
       "      <th>speechiness</th>\n",
       "      <th>acousticness</th>\n",
       "      <th>instrumentalness</th>\n",
       "      <th>liveness</th>\n",
       "      <th>valence</th>\n",
       "      <th>tempo</th>\n",
       "    </tr>\n",
       "  </thead>\n",
       "  <tbody>\n",
       "    <tr>\n",
       "      <th>0</th>\n",
       "      <td>0.758</td>\n",
       "      <td>0.871</td>\n",
       "      <td>-6.408</td>\n",
       "      <td>0.147</td>\n",
       "      <td>0.0062</td>\n",
       "      <td>0</td>\n",
       "      <td>0.0663</td>\n",
       "      <td>0.753</td>\n",
       "      <td>126.994</td>\n",
       "    </tr>\n",
       "  </tbody>\n",
       "</table>\n",
       "</div>"
      ],
      "text/plain": [
       "   danceability  energy  loudness  speechiness  acousticness  \\\n",
       "0         0.758   0.871    -6.408        0.147        0.0062   \n",
       "\n",
       "   instrumentalness  liveness  valence    tempo  \n",
       "0                 0    0.0663    0.753  126.994  "
      ]
     },
     "metadata": {},
     "output_type": "display_data"
    },
    {
     "data": {
      "text/html": [
       "<div>\n",
       "<style scoped>\n",
       "    .dataframe tbody tr th:only-of-type {\n",
       "        vertical-align: middle;\n",
       "    }\n",
       "\n",
       "    .dataframe tbody tr th {\n",
       "        vertical-align: top;\n",
       "    }\n",
       "\n",
       "    .dataframe thead th {\n",
       "        text-align: right;\n",
       "    }\n",
       "</style>\n",
       "<table border=\"1\" class=\"dataframe\">\n",
       "  <thead>\n",
       "    <tr style=\"text-align: right;\">\n",
       "      <th></th>\n",
       "      <th>danceability</th>\n",
       "      <th>energy</th>\n",
       "      <th>loudness</th>\n",
       "      <th>speechiness</th>\n",
       "      <th>acousticness</th>\n",
       "      <th>instrumentalness</th>\n",
       "      <th>liveness</th>\n",
       "      <th>valence</th>\n",
       "      <th>tempo</th>\n",
       "    </tr>\n",
       "  </thead>\n",
       "  <tbody>\n",
       "    <tr>\n",
       "      <th>0</th>\n",
       "      <td>0.98</td>\n",
       "      <td>0.535</td>\n",
       "      <td>-16.035</td>\n",
       "      <td>0.058</td>\n",
       "      <td>0.027</td>\n",
       "      <td>0.000002</td>\n",
       "      <td>0.104</td>\n",
       "      <td>0.675</td>\n",
       "      <td>115.744</td>\n",
       "    </tr>\n",
       "  </tbody>\n",
       "</table>\n",
       "</div>"
      ],
      "text/plain": [
       "   danceability  energy  loudness  speechiness  acousticness  \\\n",
       "0          0.98   0.535   -16.035        0.058         0.027   \n",
       "\n",
       "   instrumentalness  liveness  valence    tempo  \n",
       "0          0.000002     0.104    0.675  115.744  "
      ]
     },
     "metadata": {},
     "output_type": "display_data"
    }
   ],
   "source": [
    "display(df)\n",
    "display(recommended_features)\n"
   ]
  },
  {
   "cell_type": "code",
   "execution_count": 654,
   "metadata": {},
   "outputs": [
    {
     "data": {
      "text/html": [
       "<div>\n",
       "<style scoped>\n",
       "    .dataframe tbody tr th:only-of-type {\n",
       "        vertical-align: middle;\n",
       "    }\n",
       "\n",
       "    .dataframe tbody tr th {\n",
       "        vertical-align: top;\n",
       "    }\n",
       "\n",
       "    .dataframe thead th {\n",
       "        text-align: right;\n",
       "    }\n",
       "</style>\n",
       "<table border=\"1\" class=\"dataframe\">\n",
       "  <thead>\n",
       "    <tr style=\"text-align: right;\">\n",
       "      <th></th>\n",
       "      <th>danceability</th>\n",
       "      <th>energy</th>\n",
       "      <th>loudness</th>\n",
       "      <th>speechiness</th>\n",
       "      <th>acousticness</th>\n",
       "      <th>instrumentalness</th>\n",
       "      <th>liveness</th>\n",
       "      <th>valence</th>\n",
       "      <th>tempo</th>\n",
       "    </tr>\n",
       "  </thead>\n",
       "  <tbody>\n",
       "    <tr>\n",
       "      <th>count</th>\n",
       "      <td>19903.000000</td>\n",
       "      <td>19903.000000</td>\n",
       "      <td>19903.000000</td>\n",
       "      <td>19903.000000</td>\n",
       "      <td>19903.000000</td>\n",
       "      <td>19903.000000</td>\n",
       "      <td>19903.000000</td>\n",
       "      <td>19903.000000</td>\n",
       "      <td>19903.000000</td>\n",
       "    </tr>\n",
       "    <tr>\n",
       "      <th>mean</th>\n",
       "      <td>0.576408</td>\n",
       "      <td>0.661764</td>\n",
       "      <td>-7.845873</td>\n",
       "      <td>0.077777</td>\n",
       "      <td>0.232250</td>\n",
       "      <td>0.138081</td>\n",
       "      <td>0.185630</td>\n",
       "      <td>0.475954</td>\n",
       "      <td>121.817709</td>\n",
       "    </tr>\n",
       "    <tr>\n",
       "      <th>std</th>\n",
       "      <td>0.173595</td>\n",
       "      <td>0.236349</td>\n",
       "      <td>5.099911</td>\n",
       "      <td>0.080076</td>\n",
       "      <td>0.295988</td>\n",
       "      <td>0.290512</td>\n",
       "      <td>0.152473</td>\n",
       "      <td>0.244836</td>\n",
       "      <td>28.615213</td>\n",
       "    </tr>\n",
       "    <tr>\n",
       "      <th>min</th>\n",
       "      <td>0.000000</td>\n",
       "      <td>0.000000</td>\n",
       "      <td>-53.436000</td>\n",
       "      <td>0.000000</td>\n",
       "      <td>0.000000</td>\n",
       "      <td>0.000000</td>\n",
       "      <td>0.000000</td>\n",
       "      <td>0.000000</td>\n",
       "      <td>0.000000</td>\n",
       "    </tr>\n",
       "    <tr>\n",
       "      <th>25%</th>\n",
       "      <td>0.464000</td>\n",
       "      <td>0.525000</td>\n",
       "      <td>-9.358500</td>\n",
       "      <td>0.036000</td>\n",
       "      <td>0.011900</td>\n",
       "      <td>0.000000</td>\n",
       "      <td>0.094000</td>\n",
       "      <td>0.280000</td>\n",
       "      <td>100.005000</td>\n",
       "    </tr>\n",
       "    <tr>\n",
       "      <th>50%</th>\n",
       "      <td>0.590000</td>\n",
       "      <td>0.711000</td>\n",
       "      <td>-6.452000</td>\n",
       "      <td>0.048400</td>\n",
       "      <td>0.085600</td>\n",
       "      <td>0.000043</td>\n",
       "      <td>0.123000</td>\n",
       "      <td>0.472000</td>\n",
       "      <td>120.103000</td>\n",
       "    </tr>\n",
       "    <tr>\n",
       "      <th>75%</th>\n",
       "      <td>0.704000</td>\n",
       "      <td>0.850000</td>\n",
       "      <td>-4.660000</td>\n",
       "      <td>0.080600</td>\n",
       "      <td>0.356000</td>\n",
       "      <td>0.027250</td>\n",
       "      <td>0.233000</td>\n",
       "      <td>0.667000</td>\n",
       "      <td>139.952000</td>\n",
       "    </tr>\n",
       "    <tr>\n",
       "      <th>max</th>\n",
       "      <td>0.980000</td>\n",
       "      <td>1.000000</td>\n",
       "      <td>0.165000</td>\n",
       "      <td>0.957000</td>\n",
       "      <td>0.996000</td>\n",
       "      <td>0.999000</td>\n",
       "      <td>0.992000</td>\n",
       "      <td>0.989000</td>\n",
       "      <td>240.052000</td>\n",
       "    </tr>\n",
       "  </tbody>\n",
       "</table>\n",
       "</div>"
      ],
      "text/plain": [
       "       danceability        energy      loudness   speechiness  acousticness  \\\n",
       "count  19903.000000  19903.000000  19903.000000  19903.000000  19903.000000   \n",
       "mean       0.576408      0.661764     -7.845873      0.077777      0.232250   \n",
       "std        0.173595      0.236349      5.099911      0.080076      0.295988   \n",
       "min        0.000000      0.000000    -53.436000      0.000000      0.000000   \n",
       "25%        0.464000      0.525000     -9.358500      0.036000      0.011900   \n",
       "50%        0.590000      0.711000     -6.452000      0.048400      0.085600   \n",
       "75%        0.704000      0.850000     -4.660000      0.080600      0.356000   \n",
       "max        0.980000      1.000000      0.165000      0.957000      0.996000   \n",
       "\n",
       "       instrumentalness      liveness       valence         tempo  \n",
       "count      19903.000000  19903.000000  19903.000000  19903.000000  \n",
       "mean           0.138081      0.185630      0.475954    121.817709  \n",
       "std            0.290512      0.152473      0.244836     28.615213  \n",
       "min            0.000000      0.000000      0.000000      0.000000  \n",
       "25%            0.000000      0.094000      0.280000    100.005000  \n",
       "50%            0.000043      0.123000      0.472000    120.103000  \n",
       "75%            0.027250      0.233000      0.667000    139.952000  \n",
       "max            0.999000      0.992000      0.989000    240.052000  "
      ]
     },
     "execution_count": 654,
     "metadata": {},
     "output_type": "execute_result"
    }
   ],
   "source": [
    "data_num.describe()\n",
    "data_num_info = pd.DataFrame(data_num.describe())\n",
    "data_num_info"
   ]
  },
  {
   "cell_type": "code",
   "execution_count": 655,
   "metadata": {},
   "outputs": [
    {
     "data": {
      "text/plain": [
       "([0, 1, 2, 3, 4, 5, 6, 7, 8],\n",
       " [Text(0, 0, ''),\n",
       "  Text(0, 0, ''),\n",
       "  Text(0, 0, ''),\n",
       "  Text(0, 0, ''),\n",
       "  Text(0, 0, ''),\n",
       "  Text(0, 0, ''),\n",
       "  Text(0, 0, ''),\n",
       "  Text(0, 0, ''),\n",
       "  Text(0, 0, '')])"
      ]
     },
     "execution_count": 655,
     "metadata": {},
     "output_type": "execute_result"
    },
    {
     "data": {
      "image/png": "[encoded data removed]",
      "text/plain": [
       "<Figure size 432x288 with 1 Axes>"
      ]
     },
     "metadata": {
      "needs_background": "light"
     },
     "output_type": "display_data"
    }
   ],
   "source": [
    "plt.bar(data_num_info.columns,data_num_info.loc['std'])\n",
    "plt.xticks(rotation=45)"
   ]
  }
 ],
 "metadata": {
  "kernelspec": {
   "display_name": "Python 3",
   "language": "python",
   "name": "python3"
  },
  "language_info": {
   "codemirror_mode": {
    "name": "ipython",
    "version": 3
   },
   "file_extension": ".py",
   "mimetype": "text/x-python",
   "name": "python",
   "nbconvert_exporter": "python",
   "pygments_lexer": "ipython3",
   "version": "3.10.4"
  },
  "orig_nbformat": 4,
  "vscode": {
   "interpreter": {
    "hash": "096d13a557f1eefbcff4e46a0332d49d83cfff748d823998326338428f68fa0f"
   }
  }
 },
 "nbformat": 4,
 "nbformat_minor": 2
}
